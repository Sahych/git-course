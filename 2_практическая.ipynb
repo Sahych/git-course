{
  "nbformat": 4,
  "nbformat_minor": 0,
  "metadata": {
    "colab": {
      "provenance": [],
      "authorship_tag": "ABX9TyMzOClWeTkEh6Z3MeOMqrF7",
      "include_colab_link": true
    },
    "kernelspec": {
      "name": "python3",
      "display_name": "Python 3"
    },
    "language_info": {
      "name": "python"
    }
  },
  "cells": [
    {
      "cell_type": "markdown",
      "metadata": {
        "id": "view-in-github",
        "colab_type": "text"
      },
      "source": [
        "<a href=\"https://colab.research.google.com/github/Sahych/git-course/blob/master/2_%D0%BF%D1%80%D0%B0%D0%BA%D1%82%D0%B8%D1%87%D0%B5%D1%81%D0%BA%D0%B0%D1%8F.ipynb\" target=\"_parent\"><img src=\"https://colab.research.google.com/assets/colab-badge.svg\" alt=\"Open In Colab\"/></a>"
      ]
    },
    {
      "cell_type": "code",
      "execution_count": null,
      "metadata": {
        "colab": {
          "base_uri": "https://localhost:8080/"
        },
        "id": "iQKY4Xfanq2H",
        "outputId": "52c55ba2-f574-44d4-e59b-8d74e6d0505b"
      },
      "outputs": [
        {
          "output_type": "stream",
          "name": "stdout",
          "text": [
            "0.7491551839395201\n"
          ]
        }
      ],
      "source": [
        "# 1 Задание\n",
        "import math\n",
        "x = 14.26\n",
        "y = -1.22\n",
        "z = 3.5*(10**-2)\n",
        "s = ((math.cos(x-2/3)*(2))/((1/2)+math.sin(y)**2))*(1+((z**2)/(3-z**2/5)))\n",
        "print(s)"
      ]
    },
    {
      "cell_type": "code",
      "source": [
        "# 2 Задание\n",
        "import math\n",
        "x = -4.5\n",
        "y = 0.75*(10**-4)\n",
        "z = -0.845*(10**2)\n",
        "s = (((9+((x-y)**2))**(1/3))/((x**2)+(y**2)+2))-math.exp(abs(x-y))*(math.tan(z)**3)\n",
        "print(s)"
      ],
      "metadata": {
        "colab": {
          "base_uri": "https://localhost:8080/"
        },
        "id": "V44Ks_cCuxka",
        "outputId": "51c6c8ac-6054-431b-a121-711cdc27595c"
      },
      "execution_count": null,
      "outputs": [
        {
          "output_type": "stream",
          "name": "stdout",
          "text": [
            "-3.237645435330677\n"
          ]
        }
      ]
    },
    {
      "cell_type": "code",
      "source": [
        "# 3 Задание\n",
        "import math\n",
        "x = 3.74*(10**-2)\n",
        "y = -0.825\n",
        "z = 0.16*(10**2)\n",
        "s = (((1+math.sin(x+y)**2)/(abs(x-((2*y)/(1+x**2*y**2)))))*(x**abs(y)))+(math.cos(math.atan(1/z))**2)\n",
        "print('s = ', round(s,5))"
      ],
      "metadata": {
        "colab": {
          "base_uri": "https://localhost:8080/"
        },
        "id": "HVtv3eskxHNY",
        "outputId": "50b5c000-9852-4050-baa4-5f2ed0f28883"
      },
      "execution_count": null,
      "outputs": [
        {
          "output_type": "stream",
          "name": "stdout",
          "text": [
            "s =  1.05534\n"
          ]
        }
      ]
    },
    {
      "cell_type": "code",
      "source": [
        "# 4 Задание\n",
        "import math\n",
        "x = 0.4*(10**4)\n",
        "y = -0.875\n",
        "z = -0.475*(10**-3)\n",
        "s = abs(math.cos(x)-math.cos(y))**(1+2*(math.sin(y)**2))*(1+z+(z**2/2)+(z**3/3)+(z**4/4))\n",
        "print(s)"
      ],
      "metadata": {
        "colab": {
          "base_uri": "https://localhost:8080/"
        },
        "id": "nJpijFDM0_Le",
        "outputId": "ddecdfe2-69f4-4a6a-fd5b-35a58aaf8b60"
      },
      "execution_count": null,
      "outputs": [
        {
          "output_type": "stream",
          "name": "stdout",
          "text": [
            "1.9872670808332151\n"
          ]
        }
      ]
    },
    {
      "cell_type": "code",
      "source": [
        "# 5 Задание\n",
        "import math\n",
        "x = -15.246\n",
        "y = 4.642*10**-2\n",
        "z = 21\n",
        "s = (math.log(y**-(math.sqrt(abs(x)))))*(x-(y/2))+math.sin(math.atan(z))**2\n",
        "print(s)"
      ],
      "metadata": {
        "id": "4kDq_Rx_3eSE",
        "colab": {
          "base_uri": "https://localhost:8080/"
        },
        "outputId": "f88a64cf-62d3-4a7c-9cc3-d79d7aa04c39"
      },
      "execution_count": 25,
      "outputs": [
        {
          "output_type": "stream",
          "name": "stdout",
          "text": [
            "-182.0382221085504\n"
          ]
        }
      ]
    }
  ]
}